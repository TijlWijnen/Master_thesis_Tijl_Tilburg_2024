{
 "cells": [
  {
   "cell_type": "markdown",
   "metadata": {},
   "source": [
    "### Outlier Analysis Target Variable"
   ]
  },
  {
   "cell_type": "code",
   "execution_count": 20,
   "metadata": {},
   "outputs": [],
   "source": [
    "#Loading relevant libraries\n",
    "import numpy as np\n",
    "import pandas as pd\n",
    "import matplotlib.pyplot as plt\n",
    "df = pd.read_csv(\"Finished_CPS_selected_df_columns.csv\")"
   ]
  },
  {
   "cell_type": "code",
   "execution_count": 21,
   "metadata": {},
   "outputs": [
    {
     "data": {
      "text/plain": [
       "(333184, 78)"
      ]
     },
     "execution_count": 21,
     "metadata": {},
     "output_type": "execute_result"
    }
   ],
   "source": [
    "df.shape"
   ]
  },
  {
   "cell_type": "code",
   "execution_count": 22,
   "metadata": {},
   "outputs": [
    {
     "data": {
      "text/plain": [
       "ft\n",
       "1    292436\n",
       "0     40748\n",
       "Name: count, dtype: int64"
      ]
     },
     "execution_count": 22,
     "metadata": {},
     "output_type": "execute_result"
    }
   ],
   "source": [
    "df.ft.value_counts()"
   ]
  },
  {
   "cell_type": "code",
   "execution_count": 51,
   "metadata": {},
   "outputs": [
    {
     "data": {
      "text/plain": [
       "0    33104.361132\n",
       "1    25114.666667\n",
       "2    65276.205050\n",
       "3    64110.558531\n",
       "4    56984.598460\n",
       "Name: incWage_2023_inflated, dtype: float64"
      ]
     },
     "execution_count": 51,
     "metadata": {},
     "output_type": "execute_result"
    }
   ],
   "source": [
    "df['incWage_2023_inflated'].head()"
   ]
  },
  {
   "cell_type": "code",
   "execution_count": 52,
   "metadata": {},
   "outputs": [
    {
     "data": {
      "text/plain": [
       "(333004, 103)"
      ]
     },
     "execution_count": 52,
     "metadata": {},
     "output_type": "execute_result"
    }
   ],
   "source": [
    "df.shape"
   ]
  },
  {
   "cell_type": "code",
   "execution_count": 23,
   "metadata": {},
   "outputs": [],
   "source": [
    "#https://www.monster.com/career-advice/article/state-minimum-wage\n",
    "#https://www.iamexpat.nl/career/working-in-the-netherlands/working-hours#:~:text=If%20you%20work%20less%20than,working%20part%20time%20(deeltijd).\n",
    "filtered_df = df[(df['incWage_2023_inflated'] >= 4524) & (df['uhrswork'] >= 12) & (df['annhrs'] >= 624)]\n",
    "\n"
   ]
  },
  {
   "cell_type": "code",
   "execution_count": 24,
   "metadata": {},
   "outputs": [
    {
     "data": {
      "text/plain": [
       "(320499, 78)"
      ]
     },
     "execution_count": 24,
     "metadata": {},
     "output_type": "execute_result"
    }
   ],
   "source": [
    "filtered_df.shape"
   ]
  },
  {
   "cell_type": "code",
   "execution_count": 56,
   "metadata": {},
   "outputs": [
    {
     "data": {
      "text/plain": [
       "624"
      ]
     },
     "execution_count": 56,
     "metadata": {},
     "output_type": "execute_result"
    }
   ],
   "source": [
    "filtered_df.annhrs.min()"
   ]
  },
  {
   "cell_type": "code",
   "execution_count": 57,
   "metadata": {},
   "outputs": [
    {
     "data": {
      "text/plain": [
       "year                          0\n",
       "age                           0\n",
       "sex                           0\n",
       "race                          0\n",
       "region                        0\n",
       "                             ..\n",
       "South_america_bpl             0\n",
       "United_states_bpl             0\n",
       "United_states_outlying_bpl    0\n",
       "incWage_2023_inflated         0\n",
       "adjusted_wage_2023            0\n",
       "Length: 103, dtype: int64"
      ]
     },
     "execution_count": 57,
     "metadata": {},
     "output_type": "execute_result"
    }
   ],
   "source": [
    "filtered_df.isna().sum()"
   ]
  },
  {
   "cell_type": "markdown",
   "metadata": {},
   "source": [
    "#### Tukey Method for finding outliers"
   ]
  },
  {
   "cell_type": "code",
   "execution_count": 25,
   "metadata": {},
   "outputs": [
    {
     "name": "stdout",
     "output_type": "stream",
     "text": [
      "15530\n",
      "4531.951595159515\n",
      "153064.73844172675\n"
     ]
    }
   ],
   "source": [
    "Q1 = filtered_df['incWage_2023_inflated'].quantile(0.25)\n",
    "Q3 = filtered_df['incWage_2023_inflated'].quantile(0.75)\n",
    "\n",
    "IQR = Q3 - Q1\n",
    "\n",
    "min_value = filtered_df['incWage_2023_inflated'].min()\n",
    "lower_bound = max(min_value, Q1 - 1.5 * IQR)\n",
    "upper_bound = Q3 + 1.5 * IQR\n",
    "\n",
    "outliers = filtered_df[(filtered_df['incWage_2023_inflated'] <= min_value) | (filtered_df['incWage_2023_inflated'] > upper_bound)]\n",
    "\n",
    "print(len(outliers))\n",
    "print(lower_bound)\n",
    "print(upper_bound)\n"
   ]
  },
  {
   "cell_type": "code",
   "execution_count": 26,
   "metadata": {},
   "outputs": [
    {
     "name": "stdout",
     "output_type": "stream",
     "text": [
      "DataFrame without outliers:\n",
      "(304971, 78)\n"
     ]
    }
   ],
   "source": [
    "# Filter out rows with values outside the lower and upper bounds 4524\n",
    "filtered_df_without_outliers = filtered_df[(filtered_df['incWage_2023_inflated'] >= 4524) & (filtered_df['incWage_2023_inflated'] <= upper_bound)]\n",
    "\n",
    "print(\"DataFrame without outliers:\")\n",
    "print(filtered_df_without_outliers.shape)\n",
    "filtered_df_without_outliers.isna().sum()\n",
    "filtered_df_without_outliers.to_csv(\"Final_CPS_dataset(29-04-2024).csv\", index=False)"
   ]
  }
 ],
 "metadata": {
  "kernelspec": {
   "display_name": "Python 3 (ipykernel)",
   "language": "python",
   "name": "python3"
  },
  "language_info": {
   "codemirror_mode": {
    "name": "ipython",
    "version": 3
   },
   "file_extension": ".py",
   "mimetype": "text/x-python",
   "name": "python",
   "nbconvert_exporter": "python",
   "pygments_lexer": "ipython3",
   "version": "3.11.7"
  }
 },
 "nbformat": 4,
 "nbformat_minor": 4
}
