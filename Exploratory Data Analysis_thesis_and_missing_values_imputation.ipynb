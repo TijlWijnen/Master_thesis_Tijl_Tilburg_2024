{
 "cells": [
  {
   "cell_type": "code",
   "execution_count": 1,
   "metadata": {},
   "outputs": [
    {
     "data": {
      "text/html": [
       "<div>\n",
       "<style scoped>\n",
       "    .dataframe tbody tr th:only-of-type {\n",
       "        vertical-align: middle;\n",
       "    }\n",
       "\n",
       "    .dataframe tbody tr th {\n",
       "        vertical-align: top;\n",
       "    }\n",
       "\n",
       "    .dataframe thead th {\n",
       "        text-align: right;\n",
       "    }\n",
       "</style>\n",
       "<table border=\"1\" class=\"dataframe\">\n",
       "  <thead>\n",
       "    <tr style=\"text-align: right;\">\n",
       "      <th></th>\n",
       "      <th>year</th>\n",
       "      <th>serial</th>\n",
       "      <th>numprec</th>\n",
       "      <th>hwtsupp</th>\n",
       "      <th>gq</th>\n",
       "      <th>region</th>\n",
       "      <th>statefip</th>\n",
       "      <th>metro</th>\n",
       "      <th>metarea</th>\n",
       "      <th>county</th>\n",
       "      <th>...</th>\n",
       "      <th>foodcare</th>\n",
       "      <th>building</th>\n",
       "      <th>sales</th>\n",
       "      <th>officeadmin</th>\n",
       "      <th>farmer</th>\n",
       "      <th>constructextractinstall</th>\n",
       "      <th>production</th>\n",
       "      <th>transport</th>\n",
       "      <th>sumadj_occ</th>\n",
       "      <th>lehs</th>\n",
       "    </tr>\n",
       "  </thead>\n",
       "  <tbody>\n",
       "    <tr>\n",
       "      <th>0</th>\n",
       "      <td>1990</td>\n",
       "      <td>9677</td>\n",
       "      <td>1</td>\n",
       "      <td>1052.650024</td>\n",
       "      <td>1</td>\n",
       "      <td>12</td>\n",
       "      <td>36</td>\n",
       "      <td>2.0</td>\n",
       "      <td>5607.0</td>\n",
       "      <td>NaN</td>\n",
       "      <td>...</td>\n",
       "      <td>0</td>\n",
       "      <td>0</td>\n",
       "      <td>0</td>\n",
       "      <td>1</td>\n",
       "      <td>0</td>\n",
       "      <td>0</td>\n",
       "      <td>0</td>\n",
       "      <td>0</td>\n",
       "      <td>1</td>\n",
       "      <td>1</td>\n",
       "    </tr>\n",
       "    <tr>\n",
       "      <th>1</th>\n",
       "      <td>2009</td>\n",
       "      <td>64923</td>\n",
       "      <td>4</td>\n",
       "      <td>971.200012</td>\n",
       "      <td>1</td>\n",
       "      <td>33</td>\n",
       "      <td>5</td>\n",
       "      <td>2.0</td>\n",
       "      <td>NaN</td>\n",
       "      <td>NaN</td>\n",
       "      <td>...</td>\n",
       "      <td>0</td>\n",
       "      <td>0</td>\n",
       "      <td>0</td>\n",
       "      <td>1</td>\n",
       "      <td>0</td>\n",
       "      <td>0</td>\n",
       "      <td>0</td>\n",
       "      <td>0</td>\n",
       "      <td>1</td>\n",
       "      <td>1</td>\n",
       "    </tr>\n",
       "    <tr>\n",
       "      <th>2</th>\n",
       "      <td>1990</td>\n",
       "      <td>8425</td>\n",
       "      <td>1</td>\n",
       "      <td>1622.280029</td>\n",
       "      <td>1</td>\n",
       "      <td>12</td>\n",
       "      <td>36</td>\n",
       "      <td>3.0</td>\n",
       "      <td>5607.0</td>\n",
       "      <td>NaN</td>\n",
       "      <td>...</td>\n",
       "      <td>0</td>\n",
       "      <td>0</td>\n",
       "      <td>0</td>\n",
       "      <td>0</td>\n",
       "      <td>0</td>\n",
       "      <td>0</td>\n",
       "      <td>0</td>\n",
       "      <td>0</td>\n",
       "      <td>1</td>\n",
       "      <td>1</td>\n",
       "    </tr>\n",
       "    <tr>\n",
       "      <th>3</th>\n",
       "      <td>1990</td>\n",
       "      <td>67963</td>\n",
       "      <td>1</td>\n",
       "      <td>2689.909912</td>\n",
       "      <td>1</td>\n",
       "      <td>42</td>\n",
       "      <td>6</td>\n",
       "      <td>3.0</td>\n",
       "      <td>7400.0</td>\n",
       "      <td>NaN</td>\n",
       "      <td>...</td>\n",
       "      <td>0</td>\n",
       "      <td>0</td>\n",
       "      <td>0</td>\n",
       "      <td>0</td>\n",
       "      <td>0</td>\n",
       "      <td>0</td>\n",
       "      <td>0</td>\n",
       "      <td>0</td>\n",
       "      <td>1</td>\n",
       "      <td>0</td>\n",
       "    </tr>\n",
       "    <tr>\n",
       "      <th>4</th>\n",
       "      <td>1981</td>\n",
       "      <td>38650</td>\n",
       "      <td>9</td>\n",
       "      <td>1911.900024</td>\n",
       "      <td>1</td>\n",
       "      <td>31</td>\n",
       "      <td>51</td>\n",
       "      <td>3.0</td>\n",
       "      <td>8840.0</td>\n",
       "      <td>NaN</td>\n",
       "      <td>...</td>\n",
       "      <td>0</td>\n",
       "      <td>0</td>\n",
       "      <td>0</td>\n",
       "      <td>0</td>\n",
       "      <td>0</td>\n",
       "      <td>0</td>\n",
       "      <td>0</td>\n",
       "      <td>0</td>\n",
       "      <td>1</td>\n",
       "      <td>1</td>\n",
       "    </tr>\n",
       "  </tbody>\n",
       "</table>\n",
       "<p>5 rows × 234 columns</p>\n",
       "</div>"
      ],
      "text/plain": [
       "   year  serial  numprec      hwtsupp  gq  region  statefip  metro  metarea  \\\n",
       "0  1990    9677        1  1052.650024   1      12        36    2.0   5607.0   \n",
       "1  2009   64923        4   971.200012   1      33         5    2.0      NaN   \n",
       "2  1990    8425        1  1622.280029   1      12        36    3.0   5607.0   \n",
       "3  1990   67963        1  2689.909912   1      42         6    3.0   7400.0   \n",
       "4  1981   38650        9  1911.900024   1      31        51    3.0   8840.0   \n",
       "\n",
       "   county  ...  foodcare  building  sales  officeadmin  farmer  \\\n",
       "0     NaN  ...         0         0      0            1       0   \n",
       "1     NaN  ...         0         0      0            1       0   \n",
       "2     NaN  ...         0         0      0            0       0   \n",
       "3     NaN  ...         0         0      0            0       0   \n",
       "4     NaN  ...         0         0      0            0       0   \n",
       "\n",
       "   constructextractinstall  production  transport  sumadj_occ  lehs  \n",
       "0                        0           0          0           1     1  \n",
       "1                        0           0          0           1     1  \n",
       "2                        0           0          0           1     1  \n",
       "3                        0           0          0           1     0  \n",
       "4                        0           0          0           1     1  \n",
       "\n",
       "[5 rows x 234 columns]"
      ]
     },
     "execution_count": 1,
     "metadata": {},
     "output_type": "execute_result"
    }
   ],
   "source": [
    "import numpy as np\n",
    "import pandas as pd\n",
    "import matplotlib.pyplot as plt\n",
    "\n",
    "df = pd.read_csv(\"CurrentPopulationSurvey.csv\")\n",
    "df.columns = df.columns.str.lower()\n",
    "df.head()"
   ]
  },
  {
   "cell_type": "code",
   "execution_count": 2,
   "metadata": {},
   "outputs": [
    {
     "data": {
      "text/plain": [
       "(344287, 234)"
      ]
     },
     "execution_count": 2,
     "metadata": {},
     "output_type": "execute_result"
    }
   ],
   "source": [
    "df.shape"
   ]
  },
  {
   "cell_type": "code",
   "execution_count": 3,
   "metadata": {},
   "outputs": [],
   "source": [
    "selected_df = df[['year','age', 'sex', 'race','region','educ99','marst','occ1990','ind1990','annhrs','incwage','metro', 'classwkr', 'wkswork1','white', 'black', 'othrace', 'hispan', 'nativity','ft','uhrswork','bpl']]"
   ]
  },
  {
   "cell_type": "code",
   "execution_count": 8,
   "metadata": {},
   "outputs": [
    {
     "data": {
      "text/plain": [
       "0"
      ]
     },
     "execution_count": 8,
     "metadata": {},
     "output_type": "execute_result"
    }
   ],
   "source": [
    "(selected_df['incwage'] == 0).sum()"
   ]
  },
  {
   "cell_type": "code",
   "execution_count": 4,
   "metadata": {},
   "outputs": [
    {
     "data": {
      "text/plain": [
       "year\n",
       "2007    56467\n",
       "2009    55617\n",
       "2011    53857\n",
       "2013    53790\n",
       "1990    45033\n",
       "1981    42379\n",
       "1999    37144\n",
       "Name: count, dtype: int64"
      ]
     },
     "execution_count": 4,
     "metadata": {},
     "output_type": "execute_result"
    }
   ],
   "source": [
    "selected_df['year'].value_counts()"
   ]
  },
  {
   "cell_type": "code",
   "execution_count": 9,
   "metadata": {},
   "outputs": [
    {
     "data": {
      "text/plain": [
       "year            0\n",
       "age             0\n",
       "sex             0\n",
       "race            0\n",
       "region          0\n",
       "educ99      87412\n",
       "marst           0\n",
       "occ1990         0\n",
       "ind1990       181\n",
       "annhrs          0\n",
       "incwage         0\n",
       "metro        9759\n",
       "classwkr        0\n",
       "wkswork1        0\n",
       "white           0\n",
       "black           0\n",
       "othrace         0\n",
       "hispan       1397\n",
       "nativity    87824\n",
       "ft              0\n",
       "uhrswork        0\n",
       "bpl         87681\n",
       "dtype: int64"
      ]
     },
     "execution_count": 9,
     "metadata": {},
     "output_type": "execute_result"
    }
   ],
   "source": [
    "selected_df.isna().sum()"
   ]
  },
  {
   "cell_type": "code",
   "execution_count": 5,
   "metadata": {},
   "outputs": [
    {
     "name": "stderr",
     "output_type": "stream",
     "text": [
      "C:\\Users\\Tijl WIjnen\\AppData\\Local\\Temp\\ipykernel_19044\\726148371.py:1: SettingWithCopyWarning: \n",
      "A value is trying to be set on a copy of a slice from a DataFrame\n",
      "\n",
      "See the caveats in the documentation: https://pandas.pydata.org/pandas-docs/stable/user_guide/indexing.html#returning-a-view-versus-a-copy\n",
      "  selected_df.dropna(subset=['educ99'], inplace=True)\n"
     ]
    }
   ],
   "source": [
    "selected_df.dropna(subset=['educ99'], inplace=True)\n"
   ]
  },
  {
   "cell_type": "code",
   "execution_count": 6,
   "metadata": {},
   "outputs": [
    {
     "data": {
      "text/plain": [
       "year           0\n",
       "age            0\n",
       "sex            0\n",
       "race           0\n",
       "region         0\n",
       "educ99         0\n",
       "marst          0\n",
       "occ1990        0\n",
       "ind1990      181\n",
       "annhrs         0\n",
       "incwage        0\n",
       "metro       1973\n",
       "classwkr       0\n",
       "wkswork1       0\n",
       "white          0\n",
       "black          0\n",
       "othrace        0\n",
       "hispan       260\n",
       "nativity     412\n",
       "ft             0\n",
       "uhrswork       0\n",
       "bpl          269\n",
       "dtype: int64"
      ]
     },
     "execution_count": 6,
     "metadata": {},
     "output_type": "execute_result"
    }
   ],
   "source": [
    "selected_df.isna().sum()"
   ]
  },
  {
   "cell_type": "code",
   "execution_count": null,
   "metadata": {},
   "outputs": [],
   "source": [
    "#Missing values in the dataset\n",
    "zero_wages_count = (selected_df['incwage'] == 0).sum()\n",
    "zero_occ1990_count = (selected_df['occ1990'] == 999).sum()\n",
    "print(\"Number of occurrences of 0 in incwage:\", zero_wages_count)\n",
    "print(\"Number of occurrences of 999 in occ1990:\", zero_occ1990_count)\n",
    "#deleting these values?\n",
    "print(\"Median of incwage at the moment:\", selected_df['incwage'].mean())\n",
    "\n",
    "zero_counts = (selected_df == 0).sum()\n",
    "print(\"Number of zero occurrences in each column:\")\n",
    "print(zero_counts)"
   ]
  },
  {
   "cell_type": "code",
   "execution_count": 10,
   "metadata": {},
   "outputs": [
    {
     "data": {
      "image/png": "[encoded data removed]",
      "text/plain": [
       "<Figure size 1000x600 with 1 Axes>"
      ]
     },
     "metadata": {},
     "output_type": "display_data"
    }
   ],
   "source": [
    "\n",
    "plt.figure(figsize=(10, 6))\n",
    "plt.hist(selected_df['incwage'], bins=250, edgecolor='black')\n",
    "plt.title('Distribution of incwage')\n",
    "plt.xlabel('incwage')\n",
    "plt.xlim(0, 100000)\n",
    "plt.ylabel('Frequency')\n",
    "plt.grid(True)\n",
    "plt.show()\n"
   ]
  },
  {
   "cell_type": "code",
   "execution_count": 37,
   "metadata": {},
   "outputs": [
    {
     "data": {
      "image/png": "[encoded data removed]",
      "text/plain": [
       "<Figure size 1000x600 with 1 Axes>"
      ]
     },
     "metadata": {},
     "output_type": "display_data"
    },
    {
     "data": {
      "text/plain": [
       "1    175911\n",
       "2    168376\n",
       "Name: sex, dtype: int64"
      ]
     },
     "execution_count": 37,
     "metadata": {},
     "output_type": "execute_result"
    }
   ],
   "source": [
    "#Distribution of gender\n",
    "plt.figure(figsize=(10, 6))\n",
    "plt.hist(selected_df['sex'] ,edgecolor='black')\n",
    "plt.title('Distribution of sex')\n",
    "plt.xlabel('Sex')\n",
    "plt.ylabel('Frequency')\n",
    "plt.xticks([1, 2], ['Male', 'Female'])\n",
    "plt.grid(True)\n",
    "plt.show()\n",
    "selected_df['sex'].value_counts()"
   ]
  },
  {
   "cell_type": "code",
   "execution_count": 38,
   "metadata": {},
   "outputs": [
    {
     "data": {
      "image/png": "[encoded data removed]",
      "text/plain": [
       "<Figure size 1000x600 with 1 Axes>"
      ]
     },
     "metadata": {},
     "output_type": "display_data"
    },
    {
     "name": "stdout",
     "output_type": "stream",
     "text": [
      "[1990 2009 1981 1999 2007 2011 2013]\n"
     ]
    }
   ],
   "source": [
    "#Distribution of Age\n",
    "plt.figure(figsize=(10, 6))\n",
    "plt.hist(selected_df['age'], bins = 30,edgecolor='black')\n",
    "plt.title('Distribution of age')\n",
    "plt.xlabel('age')\n",
    "plt.ylabel('Frequency')\n",
    "plt.grid(True)\n",
    "plt.show()\n",
    "\n",
    "print(selected_df['year'].unique())"
   ]
  },
  {
   "cell_type": "code",
   "execution_count": null,
   "metadata": {},
   "outputs": [],
   "source": [
    "selected_df.isna().sum()\n",
    "print(selected_df.shape)"
   ]
  },
  {
   "cell_type": "code",
   "execution_count": 39,
   "metadata": {},
   "outputs": [
    {
     "name": "stderr",
     "output_type": "stream",
     "text": [
      "C:\\Users\\Tijl WIjnen\\AppData\\Local\\Temp\\ipykernel_64796\\108309086.py:19: SettingWithCopyWarning: \n",
      "A value is trying to be set on a copy of a slice from a DataFrame.\n",
      "Try using .loc[row_indexer,col_indexer] = value instead\n",
      "\n",
      "See the caveats in the documentation: https://pandas.pydata.org/pandas-docs/stable/user_guide/indexing.html#returning-a-view-versus-a-copy\n",
      "  selected_df['occupation_category_1990'] = selected_df['occ1990'].apply(map_occupation)\n"
     ]
    }
   ],
   "source": [
    "#Based on this occ1990 linke -->https://cps.ipums.org/cps-action/variables/OCC1990#description_section\n",
    "occupation_mapping = {\n",
    "    'Managerial and Professional': (range(3, 201), 1),\n",
    "    'Technical, Sales, and Administrative': (range(201, 401), 2),\n",
    "    'Service': (range(401, 471), 3),\n",
    "    'Farming, Forestry, and Fishing': (range(471, 501), 4),\n",
    "    'Precision Production, Craft, and Repairers': (range(501, 701), 5),\n",
    "    'Operatives and Laborers': (range(701, 901), 6),\n",
    "    'Non-occupational responses': (range(901, 1000), 7)\n",
    "}\n",
    "\n",
    "def map_occupation(occ_code):\n",
    "    for category, (code_range, occupation_code) in occupation_mapping.items():\n",
    "        if occ_code in code_range:\n",
    "            return occupation_code\n",
    "    return None\n",
    "\n",
    "selected_df['occupation_category_1990'] = selected_df['occ1990'].apply(map_occupation)"
   ]
  },
  {
   "cell_type": "code",
   "execution_count": 40,
   "metadata": {},
   "outputs": [
    {
     "data": {
      "image/png": "[encoded data removed]",
      "text/plain": [
       "<Figure size 1200x800 with 1 Axes>"
      ]
     },
     "metadata": {},
     "output_type": "display_data"
    }
   ],
   "source": [
    "bin_edges = [i - 0.5 for i in range(1, 9)] \n",
    "\n",
    "occupation_labels = [\n",
    "    'Managerial and Professional',\n",
    "    'Technical, Sales, and Administrative',\n",
    "    'Service',\n",
    "    'Farming, Forestry, and Fishing',\n",
    "    'Precision Production, Craft, and Repairers',\n",
    "    'Operatives and Laborers',\n",
    "    'Non-occupational responses'\n",
    "]\n",
    "\n",
    "plt.figure(figsize=(12, 8))\n",
    "plt.hist(selected_df['occupation_category_1990'], bins=bin_edges, edgecolor='black', width = 0.8)\n",
    "plt.title('Distribution of occupation')\n",
    "plt.xlabel('Different occupations')\n",
    "plt.ylabel('Frequency')\n",
    "plt.xticks(range(1, 8), occupation_labels, rotation='vertical')\n",
    "plt.xlim(0.5, 7.5)\n",
    "plt.grid(True)\n",
    "plt.show()\n"
   ]
  },
  {
   "cell_type": "code",
   "execution_count": null,
   "metadata": {},
   "outputs": [],
   "source": [
    "occupation_mapping = {\n",
    "    'Managerial and Professional': (range(3, 201), 1),\n",
    "    'Technical, Sales, and Administrative': (range(201, 401), 2),\n",
    "    'Service': (range(401, 471), 3),\n",
    "    'Farming, Forestry, and Fishing': (range(471, 501), 4),\n",
    "    'Precision Production, Craft, and Repairers': (range(501, 701), 5),\n",
    "    'Operatives and Laborers': (range(701, 901), 6),\n",
    "    'Non-occupational responses': (range(901, 1000), 7)\n",
    "}\n",
    "\n",
    "# Function to map occupation codes to categories\n",
    "def map_occupation(occ_code):\n",
    "    for category, (code_range, occupation_code) in occupation_mapping.items():\n",
    "        if occ_code in code_range:\n",
    "            return occupation_code\n",
    "    return None\n",
    "\n",
    "selected_df['occupation_category_1990'] = selected_df['occ1990'].apply(map_occupation)\n",
    "\n",
    "occupation_names = {\n",
    "    1: 'Managerial',\n",
    "    2: 'Technical, Sales, and Administrative',\n",
    "    3: 'Service',\n",
    "    4: 'Farming, Forestry, and Fishing',\n",
    "    5: 'Precision Production, Craft, and Repairers',\n",
    "    6: 'Operatives and Laborers',\n",
    "    7: 'Non-occupational responses'\n",
    "}\n",
    "\n",
    "selected_df['occupation_category_name'] = selected_df['occupation_category_1990'].map(occupation_names)\n",
    "\n",
    "occupation_dummies = pd.get_dummies(selected_df['occupation_category_name'])\n",
    "\n",
    "selected_df = pd.concat([selected_df, occupation_dummies], axis=1)\n",
    "\n",
    "selected_df['occupation_category_1990'].head()"
   ]
  },
  {
   "cell_type": "code",
   "execution_count": null,
   "metadata": {},
   "outputs": [],
   "source": [
    "\n",
    "selected_df = selected_df.dropna(subset=['ind1990'])\n",
    "\n",
    "industry_mapping = {\n",
    "    'Agriculture, forestry, and fisheries': (range(10, 33), 1),\n",
    "    'Mining': (range(40, 51), 2),\n",
    "    'Construction': (range(60, 61), 3),\n",
    "    'Manufacturing': (range(100, 393), 4),\n",
    "    'Transportation': (range(400, 473), 5),\n",
    "    'Wholesale trade': (range(500, 572), 6),\n",
    "    'Retail trade': (range(580, 692), 7),\n",
    "    'Finance': (range(700, 713), 8),\n",
    "    'Business and repair services': (range(721, 761), 9),\n",
    "    'Personal services': (range(761, 792), 10),\n",
    "    'Entertainment': (range(800, 811), 11),\n",
    "    'Professional and related services': (range(812, 894), 12),\n",
    "    'Public administration': (range(900, 933), 13),\n",
    "    'Active duty military': (range(940, 961), 14)\n",
    "}\n",
    "\n",
    "def map_industry(ind_code):\n",
    "    for category, (code_range, industry_code) in industry_mapping.items():\n",
    "        if ind_code in code_range:\n",
    "            return industry_code\n",
    "    return None\n",
    "\n",
    "selected_df['industry_category_1990'] = selected_df['ind1990'].apply(map_industry)\n",
    "\n",
    "industry_names = {\n",
    "    1: 'Agriculture, forestry, and fisheries',\n",
    "    2: 'Mining',\n",
    "    3: 'Construction',\n",
    "    4: 'Manufacturing',\n",
    "    5: 'Transportation',\n",
    "    6: 'Wholesale trade',\n",
    "    7: 'Retail trade',\n",
    "    8: 'Finance',\n",
    "    9: 'Business and repair services',\n",
    "    10: 'Personal services',\n",
    "    11: 'Entertainment',\n",
    "    12: 'Professional and related services',\n",
    "    13: 'Public administration',\n",
    "    14: 'Active duty military'\n",
    "}\n",
    "\n",
    "selected_df['industry_category_name'] = selected_df['industry_category_1990'].map(industry_names)\n",
    "\n",
    "industry_dummies = pd.get_dummies(selected_df['industry_category_name'])\n",
    "\n",
    "selected_df = pd.concat([selected_df, industry_dummies], axis=1)\n"
   ]
  },
  {
   "cell_type": "code",
   "execution_count": null,
   "metadata": {},
   "outputs": [],
   "source": [
    "selected_df['industry_category_1990'].value_counts()"
   ]
  },
  {
   "cell_type": "code",
   "execution_count": null,
   "metadata": {},
   "outputs": [],
   "source": [
    "xtick_positions = range(1, 15)\n",
    "xtick_labels = [\n",
    "    'Agriculture, Forestry, and Fisheries (1)',\n",
    "    'Mining (2)',\n",
    "    'Construction(3)',\n",
    "    'Manufacturing(4)',\n",
    "    'Transportation and Communications(5)',\n",
    "    'Wholesale Trade(6)',\n",
    "    'Retail Trade(7)',\n",
    "    'Finance(8)',\n",
    "    'Business and Repair Services(9)',\n",
    "    'Personal Services(10)',\n",
    "    'Entertainment(11)',\n",
    "    'Professional Services(12)',\n",
    "    'Public Administration(13)',\n",
    "    'Active Duty Military(14)'\n",
    "]\n",
    "\n",
    "bin_midpoints = [(start + end) / 2 for start, end in zip(range(1, 15), range(2, 16))]\n",
    "\n",
    "plt.figure(figsize=(12, 10))\n",
    "plt.hist(selected_df['industry_category_1990'], bins=range(1, 16), edgecolor='black')\n",
    "plt.title('Distribution of Industries')\n",
    "plt.ylabel('Frequency')\n",
    "plt.xticks(bin_midpoints, xtick_labels, rotation='vertical')\n",
    "plt.grid(True)\n",
    "plt.tight_layout()\n",
    "plt.show()\n"
   ]
  },
  {
   "cell_type": "code",
   "execution_count": null,
   "metadata": {},
   "outputs": [],
   "source": [
    "\n",
    "educ_mapping_combined = {\n",
    "    1: 'No school',\n",
    "    4: 'Elementary School',\n",
    "    5: 'Elementary/Middle School',\n",
    "    6: 'Elementary/Middle School',\n",
    "    7: 'Elementary/Middle School',\n",
    "    8: 'Elementary/Middle School',\n",
    "    9: 'Elementary/Middle School',\n",
    "    10: 'High School',\n",
    "    11: 'Some college',\n",
    "    13: \"Associate's degree\",\n",
    "    14: \"Associate's degree\",\n",
    "    15: \"Bachelor's degree\",\n",
    "    16: \"Master's/Professional degree\",\n",
    "    17: \"Master's/Professional degree\",\n",
    "    18: 'Doctorate degree'\n",
    "}\n"
   ]
  },
  {
   "cell_type": "code",
   "execution_count": null,
   "metadata": {},
   "outputs": [],
   "source": [
    "\n",
    "selected_df['educ99_lbl'] = selected_df['educ99'].fillna(10) \n",
    "\n",
    "selected_df['educ99_lbl_combined'] = selected_df['educ99_lbl'].map(educ_mapping_combined)\n",
    "\n",
    "print(selected_df['educ99_lbl_combined'].value_counts())\n"
   ]
  },
  {
   "cell_type": "code",
   "execution_count": null,
   "metadata": {},
   "outputs": [],
   "source": [
    "educ_dummies = pd.get_dummies(selected_df['educ99_lbl_combined'])\n",
    "selected_df = pd.concat([selected_df, educ_dummies], axis=1)"
   ]
  },
  {
   "cell_type": "code",
   "execution_count": null,
   "metadata": {},
   "outputs": [],
   "source": [
    "print(selected_df['sex'].value_counts())\n"
   ]
  },
  {
   "cell_type": "code",
   "execution_count": null,
   "metadata": {},
   "outputs": [],
   "source": [
    "\n",
    "sex_mapping = {\n",
    "    1: 'Male',\n",
    "    2: 'Female'\n",
    "}\n",
    "\n",
    "selected_df['sex_lbl'] = selected_df['sex'].map(sex_mapping)\n",
    "\n",
    "sex_dummies = pd.get_dummies(selected_df['sex_lbl'])\n",
    "\n",
    "selected_df = pd.concat([selected_df, sex_dummies], axis=1)\n"
   ]
  },
  {
   "cell_type": "code",
   "execution_count": null,
   "metadata": {},
   "outputs": [],
   "source": [
    "selected_df.isna().sum()"
   ]
  },
  {
   "cell_type": "code",
   "execution_count": null,
   "metadata": {},
   "outputs": [],
   "source": [
    "\n",
    "region_mapping = {\n",
    "    11: 'North_East',\n",
    "    12: 'North_East',\n",
    "    21: 'Mid_west',\n",
    "    22: 'Mid_west',\n",
    "    31: 'South',\n",
    "    32: 'South',\n",
    "    33: 'South',\n",
    "    41: 'West',\n",
    "    42: 'West'\n",
    "}\n",
    "\n",
    "selected_df['region_lbl'] = selected_df['region'].map(region_mapping)\n",
    "\n",
    "region_dummies = pd.get_dummies(selected_df['region_lbl'])\n",
    "\n",
    "selected_df = pd.concat([selected_df, region_dummies], axis=1)\n"
   ]
  },
  {
   "cell_type": "code",
   "execution_count": null,
   "metadata": {},
   "outputs": [],
   "source": [
    "\n",
    "marst_mapping = {\n",
    "    1: 'Married_spouse present',\n",
    "    2: 'Married_spouse absent',\n",
    "    3: 'Separated',\n",
    "    4: 'Divorced',\n",
    "    5: 'Widowed',\n",
    "    6: 'Never_married_single',\n",
    "}\n",
    "\n",
    "selected_df['marst_lbl'] = selected_df['marst'].map(marst_mapping)\n",
    "\n",
    "marst_dummies = pd.get_dummies(selected_df['marst_lbl'])\n",
    "\n",
    "selected_df = pd.concat([selected_df, marst_dummies], axis=1)\n"
   ]
  },
  {
   "cell_type": "code",
   "execution_count": null,
   "metadata": {},
   "outputs": [],
   "source": [
    "selected_df.dropna(subset=['metro'], inplace=True)\n",
    "selected_df['metro'].unique()"
   ]
  },
  {
   "cell_type": "code",
   "execution_count": null,
   "metadata": {},
   "outputs": [],
   "source": [
    "\n",
    "metro_mapping = {\n",
    "    1: 'not_metro',\n",
    "    2: 'metro_area',\n",
    "    3: 'metro_area',\n",
    "    4: 'metro_area'\n",
    "}\n",
    "\n",
    "selected_df['metro_lbl'] = selected_df['metro'].map(metro_mapping)\n",
    "\n",
    "metro_dummies = pd.get_dummies(selected_df['metro_lbl'])\n",
    "\n",
    "selected_df = pd.concat([selected_df, metro_dummies], axis=1)\n"
   ]
  },
  {
   "cell_type": "code",
   "execution_count": null,
   "metadata": {},
   "outputs": [],
   "source": [
    "median_nativity = selected_df['nativity'].median()\n",
    "\n",
    "selected_df['nativity'].fillna(median_nativity, inplace=True)\n",
    "\n",
    "print(selected_df['nativity'].sum())\n"
   ]
  },
  {
   "cell_type": "code",
   "execution_count": null,
   "metadata": {},
   "outputs": [],
   "source": [
    "nativity_mapping = {\n",
    "    1: 'nat_both_parents',\n",
    "    2: 'nat_mother_foreign',\n",
    "    3: 'nat_father_foreign',\n",
    "    4: 'nat_both_foreign',\n",
    "    5: 'nat_foreign_born'\n",
    "}\n",
    "\n",
    "selected_df['nativity_lbl'] = selected_df['nativity'].map(nativity_mapping)\n",
    "\n",
    "nativity_dummies = pd.get_dummies(selected_df['nativity_lbl'])\n",
    "\n",
    "selected_df = pd.concat([selected_df, nativity_dummies], axis=1)\n"
   ]
  },
  {
   "cell_type": "code",
   "execution_count": null,
   "metadata": {},
   "outputs": [],
   "source": [
    "\n",
    "classwkr_mapping = {\n",
    "    10: 'Self-empl',\n",
    "    21: 'Wage/salary_private sector',\n",
    "    24: 'Wage/salary_government',\n",
    "    25: 'Federal_govt employee',\n",
    "    27: 'State_govt',\n",
    "    28: 'Local_govt',\n",
    "    29: 'Unpaid_family'\n",
    "}\n",
    "\n",
    "selected_df['classwkr_lbl'] = selected_df['classwkr'].map(classwkr_mapping)\n",
    "\n",
    "classwkr_dummies = pd.get_dummies(selected_df['classwkr_lbl'])\n",
    "\n",
    "selected_df = pd.concat([selected_df, classwkr_dummies], axis=1)"
   ]
  },
  {
   "cell_type": "code",
   "execution_count": null,
   "metadata": {},
   "outputs": [],
   "source": [
    "selected_df.info()"
   ]
  },
  {
   "cell_type": "code",
   "execution_count": null,
   "metadata": {},
   "outputs": [],
   "source": [
    "# Fill missing values in 'bpl' column with median\n",
    "median_bpl = selected_df['bpl'].median()\n",
    "selected_df['bpl'] = selected_df['bpl'].fillna(median_bpl)\n",
    "\n",
    "# Define continent ranges\n",
    "continent_ranges = {\n",
    "    'United_states_bpl': (range(9900, 9901), 1),\n",
    "    'United_states_outlying_bpl': (range(10000, 12091), 2),\n",
    "    'North_america_bpl': (range(15000, 19901), 3),\n",
    "    'Central_america_bpl': (range(20000, 21091), 4),\n",
    "    'Caribbean_bpl': (range(25000, 26092), 5),\n",
    "    'South_america_bpl': (range(30005, 31001), 6),\n",
    "    'Europe_bpl': (range(40000, 49901), 7),\n",
    "    'Asia_bpl': (range(50000, 59901), 8),\n",
    "    'Africa_bpl': (range(60010, 60100), 9),\n",
    "    'Oceania_bpl': (range(70010, 72001), 10)\n",
    "}\n",
    "\n",
    "def map_continent(cont_code):\n",
    "    for category, (code_range, continent_code) in continent_ranges.items():\n",
    "        if cont_code in code_range:\n",
    "            return continent_code \n",
    "    return None\n",
    "\n",
    "selected_df['bpl_category'] = selected_df['bpl'].apply(map_continent)\n",
    "\n",
    "continent_ranges = {\n",
    "    1: 'United_states_bpl',\n",
    "    2: 'United_states_outlying_bpl',\n",
    "    3: 'North_america_bpl',\n",
    "    4: 'Central_america_bpl',\n",
    "    5: 'Caribbean_bpl',\n",
    "    6: 'South_america_bpl',\n",
    "    7: 'Europe_bpl',\n",
    "    8: 'Asia_bpl',\n",
    "    9: 'Africa_bpl',\n",
    "    10: 'Oceania_bpl'\n",
    "}\n",
    "selected_df['bpl_category_lbl'] = selected_df['bpl_category'].map(continent_ranges)\n",
    "bpl_dummies = pd.get_dummies(selected_df['bpl_category_lbl'])\n",
    "\n",
    "# Concatenate the dummy variables with the original DataFrame\n",
    "selected_df = pd.concat([selected_df, bpl_dummies], axis=1)\n",
    "selected_df['bpl_category'].head()"
   ]
  },
  {
   "cell_type": "code",
   "execution_count": null,
   "metadata": {},
   "outputs": [],
   "source": [
    "selected_df.info()\n",
    "print(selected_df.isna().sum())\n",
    "print(selected_df.shape)\n",
    "selected_df['bpl_category'].head()"
   ]
  },
  {
   "cell_type": "code",
   "execution_count": null,
   "metadata": {},
   "outputs": [],
   "source": [
    "df.year.unique()"
   ]
  },
  {
   "cell_type": "code",
   "execution_count": null,
   "metadata": {},
   "outputs": [],
   "source": [
    "# Given CPI values for the years\n",
    "#https://www.minneapolisfed.org/about-us/monetary-policy/inflation-calculator/consumer-price-index-1913-\n",
    "cpi_values = {\n",
    "    1990: 130.7, 2009: 214.5, 1981: 90.9, 1999: 166.6, 2007: 207.3,\n",
    "    2011: 224.9, 2013: 233.0, 2023: 304.7\n",
    "}\n",
    "\n",
    "# Function to adjust income wages for inflation to 2023\n",
    "def adjust_income_wages(incwage, year):\n",
    "    if year == 2023:\n",
    "        return incwage\n",
    "    else:\n",
    "        cpi_ratio = cpi_values[2023] / cpi_values[year]\n",
    "        return incwage * cpi_ratio\n",
    "\n",
    "selected_df['incWage_2023_inflated'] = selected_df.apply(lambda row: adjust_income_wages(row['incwage'], row['year']), axis=1)\n",
    "selected_df['incWage_2023_inflated'].head()"
   ]
  },
  {
   "cell_type": "code",
   "execution_count": null,
   "metadata": {},
   "outputs": [],
   "source": [
    "# Check for missing values in each column\n",
    "columns_with_missing_values = selected_df.isna().sum()\n",
    "columns_with_missing_values_above_zero = columns_with_missing_values[columns_with_missing_values > 0]\n",
    "print(columns_with_missing_values_above_zero)\n"
   ]
  },
  {
   "cell_type": "code",
   "execution_count": null,
   "metadata": {},
   "outputs": [],
   "source": [
    "# Remove rows with missing values in the \"hispan\" column\n",
    "selected_df = selected_df.dropna(subset=[\"hispan\"])\n",
    "\n",
    "# Verify if there are any missing values left\n",
    "print(selected_df.isna().sum())"
   ]
  },
  {
   "cell_type": "code",
   "execution_count": null,
   "metadata": {},
   "outputs": [],
   "source": [
    "for column in selected_df.columns:\n",
    "    print(column)"
   ]
  },
  {
   "cell_type": "code",
   "execution_count": null,
   "metadata": {},
   "outputs": [],
   "source": [
    "selected_df.to_csv('Finished_CPS_selected_df_columns.csv', index = False)"
   ]
  },
  {
   "cell_type": "code",
   "execution_count": null,
   "metadata": {},
   "outputs": [],
   "source": [
    "#percentage of missing values for everything\n",
    "#how does the features behave before and after imputation\n",
    "#looking at the influence of median when imputing"
   ]
  },
  {
   "cell_type": "code",
   "execution_count": 43,
   "metadata": {},
   "outputs": [],
   "source": [
    "df = pd.read_csv(\"CurrentPopulationSurvey.csv\")"
   ]
  },
  {
   "cell_type": "code",
   "execution_count": 44,
   "metadata": {},
   "outputs": [],
   "source": [
    "selected_df = df[['year','age', 'sex', 'race','region','educ99','marst','occ1990','ind1990','annhrs','incwage', 'hrwage','metro', 'classwkr', 'wkswork1','white', 'black', 'othrace', 'hispan', 'nativity','ft','uhrswork','bpl']]"
   ]
  },
  {
   "cell_type": "code",
   "execution_count": 45,
   "metadata": {},
   "outputs": [
    {
     "data": {
      "text/plain": [
       "year            0\n",
       "age             0\n",
       "sex             0\n",
       "race            0\n",
       "region          0\n",
       "educ99      87412\n",
       "marst           0\n",
       "occ1990         0\n",
       "ind1990       181\n",
       "annhrs          0\n",
       "incwage         0\n",
       "hrwage          0\n",
       "metro        9759\n",
       "classwkr        0\n",
       "wkswork1        0\n",
       "white           0\n",
       "black           0\n",
       "othrace         0\n",
       "hispan       1397\n",
       "nativity    87824\n",
       "ft              0\n",
       "uhrswork        0\n",
       "bpl         87681\n",
       "dtype: int64"
      ]
     },
     "execution_count": 45,
     "metadata": {},
     "output_type": "execute_result"
    }
   ],
   "source": [
    "selected_df.isnull().sum()"
   ]
  },
  {
   "cell_type": "code",
   "execution_count": 46,
   "metadata": {},
   "outputs": [
    {
     "data": {
      "text/plain": [
       "25.508950381513095"
      ]
     },
     "execution_count": 46,
     "metadata": {},
     "output_type": "execute_result"
    }
   ],
   "source": [
    "#percentage of missing values \n",
    "(selected_df.isnull().sum().max() / selected_df.shape[0]) * 100\n",
    "#25.5 Percent of maximum missiong values in whole selected_df"
   ]
  },
  {
   "cell_type": "markdown",
   "metadata": {},
   "source": [
    "### Looking at the Distribution of Categories before and after Imputation"
   ]
  },
  {
   "cell_type": "code",
   "execution_count": 48,
   "metadata": {},
   "outputs": [],
   "source": [
    "real_df = pd.read_csv(\"Finished_CPS_selected_df_columns.csv\")\n",
    "real_df_copy = real_df.copy()"
   ]
  },
  {
   "cell_type": "code",
   "execution_count": null,
   "metadata": {},
   "outputs": [],
   "source": [
    "\n",
    "# Define continent ranges\n",
    "continent_ranges = {\n",
    "    'United_states_bpl': (range(9900, 9901), 1),\n",
    "    'United_states_outlying_bpl': (range(10000, 12091), 2),\n",
    "    'North_america_bpl': (range(15000, 19901), 3),\n",
    "    'Central_america_bpl': (range(20000, 21091), 4),\n",
    "    'Caribbean_bpl': (range(25000, 26092), 5),\n",
    "    'South_america_bpl': (range(30005, 31001), 6),\n",
    "    'Europe_bpl': (range(40000, 49901), 7),\n",
    "    'Asia_bpl': (range(50000, 59901), 8),\n",
    "    'Africa_bpl': (range(60010, 60100), 9),\n",
    "    'Oceania_bpl': (range(70010, 72001), 10)\n",
    "}\n",
    "\n",
    "# Function to map continent codes to categories\n",
    "def map_continent(cont_code):\n",
    "    for category, (code_range, continent_code) in continent_ranges.items():\n",
    "        if cont_code in code_range:\n",
    "            return continent_code  \n",
    "    return None\n",
    "\n",
    "selected_df['bpl_category'] = selected_df['bpl'].apply(map_continent)\n",
    "\n",
    "continent_ranges = {\n",
    "    1: 'United_states_bpl',\n",
    "    2: 'United_states_outlying_bpl',\n",
    "    3: 'North_america_bpl',\n",
    "    4: 'Central_america_bpl',\n",
    "    5: 'Caribbean_bpl',\n",
    "    6: 'South_america_bpl',\n",
    "    7: 'Europe_bpl',\n",
    "    8: 'Asia_bpl',\n",
    "    9: 'Africa_bpl',\n",
    "    10: 'Oceania_bpl'\n",
    "}\n",
    "selected_df['bpl_category_lbl'] = selected_df['bpl_category'].map(continent_ranges)"
   ]
  },
  {
   "cell_type": "code",
   "execution_count": null,
   "metadata": {},
   "outputs": [],
   "source": [
    "real_df_copy['educ99_lbl'].head()"
   ]
  },
  {
   "cell_type": "code",
   "execution_count": 62,
   "metadata": {},
   "outputs": [
    {
     "data": {
      "image/png": "[encoded data removed]",
      "text/plain": [
       "<Figure size 720x432 with 1 Axes>"
      ]
     },
     "metadata": {
      "needs_background": "light"
     },
     "output_type": "display_data"
    },
    {
     "name": "stdout",
     "output_type": "stream",
     "text": [
      "Summary Statistics for educ99 (with nulls):\n",
      "count    256875.000000\n",
      "mean         12.175689\n",
      "std           3.003724\n",
      "min           1.000000\n",
      "25%          10.000000\n",
      "50%          11.000000\n",
      "75%          15.000000\n",
      "max          18.000000\n",
      "Name: educ99, dtype: float64\n",
      "\n",
      "Summary Statistics for Imputed education_category:\n",
      "count    333004.000000\n",
      "mean         11.667454\n",
      "std           2.784143\n",
      "min           1.000000\n",
      "25%          10.000000\n",
      "50%          10.000000\n",
      "75%          15.000000\n",
      "max          18.000000\n",
      "Name: educ99_lbl, dtype: float64\n"
     ]
    }
   ],
   "source": [
    "# Compare distributions\n",
    "plt.figure(figsize=(10, 6))\n",
    "sns.histplot(selected_df['educ99'], color='blue', alpha=0.5, label='Original education_category (with nulls)')\n",
    "sns.histplot(real_df_copy['educ99_lbl'], color='orange', alpha=0.5, label='Imputed education_category (High School)')\n",
    "plt.title('Comparison of Distributions')\n",
    "plt.xlabel('Education Category')\n",
    "plt.ylabel('Frequency')\n",
    "plt.legend()\n",
    "plt.show()\n",
    "\n",
    "# Compare summary statistics\n",
    "print(\"Summary Statistics for educ99 (with nulls):\")\n",
    "print(selected_df['educ99'].describe())\n",
    "print(\"\\nSummary Statistics for Imputed education_category:\")\n",
    "print(real_df_copy['educ99_lbl'].describe())\n"
   ]
  },
  {
   "cell_type": "code",
   "execution_count": 61,
   "metadata": {},
   "outputs": [
    {
     "data": {
      "image/png": "[encoded data removed]",
      "text/plain": [
       "<Figure size 720x432 with 1 Axes>"
      ]
     },
     "metadata": {
      "needs_background": "light"
     },
     "output_type": "display_data"
    },
    {
     "name": "stdout",
     "output_type": "stream",
     "text": [
      "Summary Statistics for Nativity (with nulls):\n",
      "count    256463.000000\n",
      "mean          1.862893\n",
      "std           1.578474\n",
      "min           1.000000\n",
      "25%           1.000000\n",
      "50%           1.000000\n",
      "75%           1.000000\n",
      "max           5.000000\n",
      "Name: nativity, dtype: float64\n",
      "\n",
      "Summary Statistics for Imputed nativity:\n",
      "count    333004.000000\n",
      "mean          1.660397\n",
      "std           1.428489\n",
      "min           1.000000\n",
      "25%           1.000000\n",
      "50%           1.000000\n",
      "75%           1.000000\n",
      "max           5.000000\n",
      "Name: nativity, dtype: float64\n"
     ]
    }
   ],
   "source": [
    "plt.figure(figsize=(10, 6))\n",
    "sns.histplot(selected_df['nativity'], color='blue', alpha=0.5, label='Original Nativity (with nulls)')\n",
    "sns.histplot(real_df_copy['nativity'], color='orange', alpha=0.5, label='Imputed Nativity (Both Parents)')\n",
    "plt.title('Comparison of Distributions')\n",
    "plt.xlabel('Nativity Category')\n",
    "plt.ylabel('Frequency')\n",
    "plt.legend()\n",
    "plt.show()\n",
    "\n",
    "print(\"Summary Statistics for Nativity (with nulls):\")\n",
    "print(selected_df['nativity'].describe())\n",
    "print(\"\\nSummary Statistics for Imputed nativity:\")\n",
    "print(real_df_copy['nativity'].describe())\n"
   ]
  },
  {
   "cell_type": "code",
   "execution_count": 63,
   "metadata": {},
   "outputs": [
    {
     "data": {
      "image/png": "[encoded data removed]",
      "text/plain": [
       "<Figure size 720x432 with 1 Axes>"
      ]
     },
     "metadata": {
      "needs_background": "light"
     },
     "output_type": "display_data"
    },
    {
     "name": "stdout",
     "output_type": "stream",
     "text": [
      "Summary Statistics for Birthplace (with nulls):\n",
      "count    256606.000000\n",
      "mean          1.840331\n",
      "std           1.983484\n",
      "min           1.000000\n",
      "25%           1.000000\n",
      "50%           1.000000\n",
      "75%           1.000000\n",
      "max          10.000000\n",
      "Name: bpl_category, dtype: float64\n",
      "\n",
      "Summary Statistics for Birthplace nativity:\n",
      "count    333004.000000\n",
      "mean          1.644157\n",
      "std           1.773608\n",
      "min           1.000000\n",
      "25%           1.000000\n",
      "50%           1.000000\n",
      "75%           1.000000\n",
      "max          10.000000\n",
      "Name: bpl_category, dtype: float64\n"
     ]
    }
   ],
   "source": [
    "plt.figure(figsize=(10, 6))\n",
    "sns.histplot(selected_df['bpl_category'], color='blue', alpha=0.5, label='Original Birthplace (with nulls)')\n",
    "sns.histplot(real_df_copy['bpl_category'], color='orange', alpha=0.5, label='Imputed Birthplace (United States)')\n",
    "plt.title('Comparison of Distributions')\n",
    "plt.xlabel('Birthplace Category')\n",
    "plt.ylabel('Frequency')\n",
    "plt.legend()\n",
    "plt.show()\n",
    "\n",
    "print(\"Summary Statistics for Birthplace (with nulls):\")\n",
    "print(selected_df['bpl_category'].describe())\n",
    "print(\"\\nSummary Statistics for Birthplace nativity:\")\n",
    "print(real_df_copy['bpl_category'].describe())\n"
   ]
  }
 ],
 "metadata": {
  "kernelspec": {
   "display_name": "Python 3 (ipykernel)",
   "language": "python",
   "name": "python3"
  },
  "language_info": {
   "codemirror_mode": {
    "name": "ipython",
    "version": 3
   },
   "file_extension": ".py",
   "mimetype": "text/x-python",
   "name": "python",
   "nbconvert_exporter": "python",
   "pygments_lexer": "ipython3",
   "version": "3.11.7"
  }
 },
 "nbformat": 4,
 "nbformat_minor": 4
}
